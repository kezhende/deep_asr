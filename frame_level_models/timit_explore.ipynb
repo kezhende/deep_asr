{
 "cells": [
  {
   "cell_type": "code",
   "execution_count": 10,
   "metadata": {},
   "outputs": [],
   "source": [
    "import numpy as np\n",
    "import pandas as pd\n",
    "from import_timit import preprocess_data\n",
    "import matplotlib.pyplot as plt"
   ]
  },
  {
   "cell_type": "code",
   "execution_count": 2,
   "metadata": {},
   "outputs": [],
   "source": [
    "timit_path = \"/home/neo/MS/TIMIT/\"\n",
    "train_path = timit_path+\"TRAIN/\"\n",
    "test_path = timit_path+\"TEST/\""
   ]
  },
  {
   "cell_type": "code",
   "execution_count": 5,
   "metadata": {},
   "outputs": [
    {
     "name": "stdout",
     "output_type": "stream",
     "text": [
      "Checking to see if data has already been extracted in given argument:  /home/neo/MS/TIMIT/\n",
      "Found extracted data in:  /home/neo/MS/TIMIT/\n",
      "Building CSVs\n"
     ]
    }
   ],
   "source": [
    "preprocess_data(timit_path, transcript_type=\"wrd\", processed=True)"
   ]
  },
  {
   "cell_type": "code",
   "execution_count": 9,
   "metadata": {},
   "outputs": [
    {
     "data": {
      "text/html": [
       "<div>\n",
       "<style scoped>\n",
       "    .dataframe tbody tr th:only-of-type {\n",
       "        vertical-align: middle;\n",
       "    }\n",
       "\n",
       "    .dataframe tbody tr th {\n",
       "        vertical-align: top;\n",
       "    }\n",
       "\n",
       "    .dataframe thead th {\n",
       "        text-align: right;\n",
       "    }\n",
       "</style>\n",
       "<table border=\"1\" class=\"dataframe\">\n",
       "  <thead>\n",
       "    <tr style=\"text-align: right;\">\n",
       "      <th></th>\n",
       "      <th>wav_filename</th>\n",
       "      <th>wav_filesize</th>\n",
       "      <th>transcript</th>\n",
       "    </tr>\n",
       "  </thead>\n",
       "  <tbody>\n",
       "    <tr>\n",
       "      <th>0</th>\n",
       "      <td>/home/neo/MS/TIMIT/TRAIN/DR4/FKDW0/SX217_rif.wav</td>\n",
       "      <td>59232</td>\n",
       "      <td>how permanent are their records</td>\n",
       "    </tr>\n",
       "    <tr>\n",
       "      <th>1</th>\n",
       "      <td>/home/neo/MS/TIMIT/TRAIN/DR4/FKDW0/SA1_rif.wav</td>\n",
       "      <td>111252</td>\n",
       "      <td>she had your dark suit in greasy wash water a...</td>\n",
       "    </tr>\n",
       "    <tr>\n",
       "      <th>2</th>\n",
       "      <td>/home/neo/MS/TIMIT/TRAIN/DR4/FKDW0/SA2_rif.wav</td>\n",
       "      <td>87290</td>\n",
       "      <td>don't ask me to carry an oily rag like that</td>\n",
       "    </tr>\n",
       "    <tr>\n",
       "      <th>3</th>\n",
       "      <td>/home/neo/MS/TIMIT/TRAIN/DR4/FKDW0/SI577_rif.wav</td>\n",
       "      <td>88108</td>\n",
       "      <td>she can decrease the number of temptations</td>\n",
       "    </tr>\n",
       "    <tr>\n",
       "      <th>4</th>\n",
       "      <td>/home/neo/MS/TIMIT/TRAIN/DR4/FKDW0/SX397_rif.wav</td>\n",
       "      <td>91180</td>\n",
       "      <td>tim takes sheila to see movies twice a week</td>\n",
       "    </tr>\n",
       "  </tbody>\n",
       "</table>\n",
       "</div>"
      ],
      "text/plain": [
       "                                       wav_filename  wav_filesize  \\\n",
       "0  /home/neo/MS/TIMIT/TRAIN/DR4/FKDW0/SX217_rif.wav         59232   \n",
       "1    /home/neo/MS/TIMIT/TRAIN/DR4/FKDW0/SA1_rif.wav        111252   \n",
       "2    /home/neo/MS/TIMIT/TRAIN/DR4/FKDW0/SA2_rif.wav         87290   \n",
       "3  /home/neo/MS/TIMIT/TRAIN/DR4/FKDW0/SI577_rif.wav         88108   \n",
       "4  /home/neo/MS/TIMIT/TRAIN/DR4/FKDW0/SX397_rif.wav         91180   \n",
       "\n",
       "                                          transcript  \n",
       "0                    how permanent are their records  \n",
       "1   she had your dark suit in greasy wash water a...  \n",
       "2        don't ask me to carry an oily rag like that  \n",
       "3         she can decrease the number of temptations  \n",
       "4        tim takes sheila to see movies twice a week  "
      ]
     },
     "execution_count": 9,
     "metadata": {},
     "output_type": "execute_result"
    }
   ],
   "source": [
    "timit_all = pd.read_csv(timit_path+\"timit_all_txt.csv\")\n",
    "timit_all.head()"
   ]
  },
  {
   "cell_type": "code",
   "execution_count": 11,
   "metadata": {},
   "outputs": [
    {
     "data": {
      "text/plain": [
       "(array([ 137.,  875., 2216., 1732.,  754.,  425.,  116.,   33.,    8.,\n",
       "           4.]),\n",
       " array([ 29332. ,  51327.4,  73322.8,  95318.2, 117313.6, 139309. ,\n",
       "        161304.4, 183299.8, 205295.2, 227290.6, 249286. ]),\n",
       " <a list of 10 Patch objects>)"
      ]
     },
     "execution_count": 11,
     "metadata": {},
     "output_type": "execute_result"
    },
    {
     "data": {
      "image/png": "[encoded data removed]",
      "text/plain": [
       "<Figure size 432x288 with 1 Axes>"
      ]
     },
     "metadata": {},
     "output_type": "display_data"
    }
   ],
   "source": [
    "plt.hist(timit_all[\"wav_filesize\"].tolist())"
   ]
  },
  {
   "cell_type": "code",
   "execution_count": 14,
   "metadata": {},
   "outputs": [
    {
     "data": {
      "text/plain": [
       "3648000"
      ]
     },
     "execution_count": 14,
     "metadata": {},
     "output_type": "execute_result"
    }
   ],
   "source": [
    "228*16000"
   ]
  }
 ],
 "metadata": {
  "kernelspec": {
   "display_name": "Python 3",
   "language": "python",
   "name": "python3"
  },
  "language_info": {
   "codemirror_mode": {
    "name": "ipython",
    "version": 3
   },
   "file_extension": ".py",
   "mimetype": "text/x-python",
   "name": "python",
   "nbconvert_exporter": "python",
   "pygments_lexer": "ipython3",
   "version": "3.6.3"
  }
 },
 "nbformat": 4,
 "nbformat_minor": 2
}
