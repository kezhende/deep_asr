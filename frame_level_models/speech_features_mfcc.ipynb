{
 "cells": [
  {
   "cell_type": "code",
   "execution_count": 2,
   "metadata": {},
   "outputs": [],
   "source": [
    "from python_speech_features import mfcc\n",
    "from python_speech_features import delta\n",
    "from python_speech_features import logfbank\n",
    "import scipy.io.wavfile as wav\n",
    "import os"
   ]
  },
  {
   "cell_type": "code",
   "execution_count": 3,
   "metadata": {},
   "outputs": [],
   "source": [
    "wavs_path = \"/home/neo/MS/TIMIT/TRAIN/DR1/FCJF0/\"\n",
    "files = os.listdir(wavs_path)\n",
    "files = [ele for ele in files if \"WAV\" in ele]\n",
    "(rate,sig) = wav.read(\"/home/neo/MS/Projects/KerasDeepSpeech/TIMIT/TRAIN/DR1/MJWT0/SA2_rif.wav\")\n",
    "mfcc_feat = mfcc(sig,rate)"
   ]
  },
  {
   "cell_type": "code",
   "execution_count": null,
   "metadata": {},
   "outputs": [],
   "source": [
    "wav."
   ]
  },
  {
   "cell_type": "code",
   "execution_count": 39,
   "metadata": {},
   "outputs": [],
   "source": [
    "mfcc_deltas = delta(mfcc_feat, 1)"
   ]
  },
  {
   "cell_type": "code",
   "execution_count": 40,
   "metadata": {},
   "outputs": [
    {
     "data": {
      "text/plain": [
       "array([  7.26429756, -28.87531588, -10.08267444, -19.62241835,\n",
       "        -0.61120343,   1.39385583,  -2.7420338 , -14.85803105,\n",
       "        -3.5034397 ,  12.19114009,  14.93666711,   3.35937347,\n",
       "        -2.56135126])"
      ]
     },
     "execution_count": 40,
     "metadata": {},
     "output_type": "execute_result"
    }
   ],
   "source": [
    "mfcc_feat[0]"
   ]
  },
  {
   "cell_type": "code",
   "execution_count": 41,
   "metadata": {},
   "outputs": [
    {
     "data": {
      "text/plain": [
       "array([ 0.20407211, -0.44636881,  0.30802492, -0.97590293, -5.60210818,\n",
       "       -3.40691944,  0.6480562 ,  1.52359918,  3.28923501,  0.6834344 ,\n",
       "       -6.04066178,  0.45445756, -2.12188395])"
      ]
     },
     "execution_count": 41,
     "metadata": {},
     "output_type": "execute_result"
    }
   ],
   "source": [
    "mfcc_deltas[0]"
   ]
  },
  {
   "cell_type": "code",
   "execution_count": null,
   "metadata": {},
   "outputs": [],
   "source": []
  }
 ],
 "metadata": {
  "kernelspec": {
   "display_name": "Python 3",
   "language": "python",
   "name": "python3"
  },
  "language_info": {
   "codemirror_mode": {
    "name": "ipython",
    "version": 3
   },
   "file_extension": ".py",
   "mimetype": "text/x-python",
   "name": "python",
   "nbconvert_exporter": "python",
   "pygments_lexer": "ipython3",
   "version": "3.6.3"
  }
 },
 "nbformat": 4,
 "nbformat_minor": 2
}
