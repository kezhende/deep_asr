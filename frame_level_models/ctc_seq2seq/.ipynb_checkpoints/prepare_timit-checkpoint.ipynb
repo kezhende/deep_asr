{
 "cells": [
  {
   "cell_type": "code",
   "execution_count": 1,
   "metadata": {},
   "outputs": [],
   "source": [
    "import pandas as pd\n",
    "import os\n",
    "from utils import *"
   ]
  },
  {
   "cell_type": "code",
   "execution_count": 2,
   "metadata": {},
   "outputs": [
    {
     "data": {
      "text/plain": [
       "True"
      ]
     },
     "execution_count": 2,
     "metadata": {},
     "output_type": "execute_result"
    }
   ],
   "source": [
    "tf.enable_eager_execution()\n",
    "tf.executing_eagerly()"
   ]
  },
  {
   "cell_type": "code",
   "execution_count": 3,
   "metadata": {},
   "outputs": [],
   "source": [
    "timit_path = \"/home/neo/MS/TIMIT/\"\n",
    "timit_train = timit_path + \"timit_train.csv\"\n",
    "timit_test = timit_path + \"timit_test.csv\"\n",
    "timit_all = timit_path + \"timit_all.csv\""
   ]
  },
  {
   "cell_type": "code",
   "execution_count": 4,
   "metadata": {},
   "outputs": [],
   "source": [
    "train_df = pd.read_csv(timit_train)\n",
    "test_df = pd.read_csv(timit_test)\n",
    "all_df = pd.read_csv(timit_all)\n",
    "\n",
    "train_df[\"transcript\"] = clean_transcripts(train_df[\"transcript\"].tolist())\n",
    "test_df[\"transcript\"] = clean_transcripts(test_df[\"transcript\"].tolist())\n",
    "all_df[\"transcript\"] = clean_transcripts(all_df[\"transcript\"].tolist())"
   ]
  },
  {
   "cell_type": "code",
   "execution_count": 5,
   "metadata": {},
   "outputs": [],
   "source": [
    "all_df[\"transcript_indices\"], transcript_dict = build_transcript_dataset(all_df[\"transcript\"].tolist())"
   ]
  },
  {
   "cell_type": "code",
   "execution_count": 6,
   "metadata": {},
   "outputs": [
    {
     "data": {
      "text/html": [
       "<div>\n",
       "<style scoped>\n",
       "    .dataframe tbody tr th:only-of-type {\n",
       "        vertical-align: middle;\n",
       "    }\n",
       "\n",
       "    .dataframe tbody tr th {\n",
       "        vertical-align: top;\n",
       "    }\n",
       "\n",
       "    .dataframe thead th {\n",
       "        text-align: right;\n",
       "    }\n",
       "</style>\n",
       "<table border=\"1\" class=\"dataframe\">\n",
       "  <thead>\n",
       "    <tr style=\"text-align: right;\">\n",
       "      <th></th>\n",
       "      <th>wav_filename</th>\n",
       "      <th>wav_filesize</th>\n",
       "      <th>transcript</th>\n",
       "      <th>transcript_indices</th>\n",
       "    </tr>\n",
       "  </thead>\n",
       "  <tbody>\n",
       "    <tr>\n",
       "      <th>0</th>\n",
       "      <td>/home/neo/MS/Projects/KerasDeepSpeech/TIMIT/TR...</td>\n",
       "      <td>97324</td>\n",
       "      <td>dont ask me to carry an oily rag like that</td>\n",
       "      <td>[4, 15, 14, 20, 0, 1, 19, 11, 0, 13, 5, 0, 20,...</td>\n",
       "    </tr>\n",
       "    <tr>\n",
       "      <th>1</th>\n",
       "      <td>/home/neo/MS/Projects/KerasDeepSpeech/TIMIT/TR...</td>\n",
       "      <td>151392</td>\n",
       "      <td>they should live in modest circumstances avoid...</td>\n",
       "      <td>[20, 8, 5, 25, 0, 19, 8, 15, 21, 12, 4, 0, 12,...</td>\n",
       "    </tr>\n",
       "    <tr>\n",
       "      <th>2</th>\n",
       "      <td>/home/neo/MS/Projects/KerasDeepSpeech/TIMIT/TR...</td>\n",
       "      <td>101216</td>\n",
       "      <td>only the best players enjoy popularity</td>\n",
       "      <td>[15, 14, 12, 25, 0, 20, 8, 5, 0, 2, 5, 19, 20,...</td>\n",
       "    </tr>\n",
       "    <tr>\n",
       "      <th>3</th>\n",
       "      <td>/home/neo/MS/Projects/KerasDeepSpeech/TIMIT/TR...</td>\n",
       "      <td>73978</td>\n",
       "      <td>they all like long hot showers</td>\n",
       "      <td>[20, 8, 5, 25, 0, 1, 12, 12, 0, 12, 9, 11, 5, ...</td>\n",
       "    </tr>\n",
       "    <tr>\n",
       "      <th>4</th>\n",
       "      <td>/home/neo/MS/Projects/KerasDeepSpeech/TIMIT/TR...</td>\n",
       "      <td>148524</td>\n",
       "      <td>but briefly the topping configuration must be ...</td>\n",
       "      <td>[2, 21, 20, 0, 2, 18, 9, 5, 6, 12, 25, 0, 20, ...</td>\n",
       "    </tr>\n",
       "  </tbody>\n",
       "</table>\n",
       "</div>"
      ],
      "text/plain": [
       "                                        wav_filename  wav_filesize  \\\n",
       "0  /home/neo/MS/Projects/KerasDeepSpeech/TIMIT/TR...         97324   \n",
       "1  /home/neo/MS/Projects/KerasDeepSpeech/TIMIT/TR...        151392   \n",
       "2  /home/neo/MS/Projects/KerasDeepSpeech/TIMIT/TR...        101216   \n",
       "3  /home/neo/MS/Projects/KerasDeepSpeech/TIMIT/TR...         73978   \n",
       "4  /home/neo/MS/Projects/KerasDeepSpeech/TIMIT/TR...        148524   \n",
       "\n",
       "                                          transcript  \\\n",
       "0         dont ask me to carry an oily rag like that   \n",
       "1  they should live in modest circumstances avoid...   \n",
       "2             only the best players enjoy popularity   \n",
       "3                     they all like long hot showers   \n",
       "4  but briefly the topping configuration must be ...   \n",
       "\n",
       "                                  transcript_indices  \n",
       "0  [4, 15, 14, 20, 0, 1, 19, 11, 0, 13, 5, 0, 20,...  \n",
       "1  [20, 8, 5, 25, 0, 19, 8, 15, 21, 12, 4, 0, 12,...  \n",
       "2  [15, 14, 12, 25, 0, 20, 8, 5, 0, 2, 5, 19, 20,...  \n",
       "3  [20, 8, 5, 25, 0, 1, 12, 12, 0, 12, 9, 11, 5, ...  \n",
       "4  [2, 21, 20, 0, 2, 18, 9, 5, 6, 12, 25, 0, 20, ...  "
      ]
     },
     "execution_count": 6,
     "metadata": {},
     "output_type": "execute_result"
    }
   ],
   "source": [
    "all_df.head()"
   ]
  },
  {
   "cell_type": "code",
   "execution_count": 7,
   "metadata": {},
   "outputs": [],
   "source": [
    "wav_files = all_df[\"wav_filename\"].tolist()[:10]\n",
    "transcripts = all_df[\"transcript_indices\"].tolist()[:10]"
   ]
  },
  {
   "cell_type": "code",
   "execution_count": 8,
   "metadata": {},
   "outputs": [
    {
     "name": "stdout",
     "output_type": "stream",
     "text": [
      "0.0% mfcc computation completed\n",
      "10.0% mfcc computation completed\n",
      "20.0% mfcc computation completed\n",
      "30.0% mfcc computation completed\n",
      "40.0% mfcc computation completed\n",
      "50.0% mfcc computation completed\n",
      "60.0% mfcc computation completed\n",
      "70.0% mfcc computation completed\n",
      "80.0% mfcc computation completed\n",
      "90.0% mfcc computation completed\n"
     ]
    }
   ],
   "source": [
    "all_df[\"features\"] = get_mfcc_for_wavs(all_df[\"wav_filename\"].tolist())"
   ]
  },
  {
   "cell_type": "code",
   "execution_count": 14,
   "metadata": {},
   "outputs": [
    {
     "data": {
      "text/plain": [
       "(303, 26)"
      ]
     },
     "execution_count": 14,
     "metadata": {},
     "output_type": "execute_result"
    }
   ],
   "source": [
    "all_df[\"features\"].tolist()[0].shape"
   ]
  },
  {
   "cell_type": "code",
   "execution_count": 16,
   "metadata": {},
   "outputs": [],
   "source": [
    "all_df.to_pickle(\"timit_dataset.pkl\")"
   ]
  },
  {
   "cell_type": "code",
   "execution_count": null,
   "metadata": {},
   "outputs": [],
   "source": []
  }
 ],
 "metadata": {
  "kernelspec": {
   "display_name": "Python 3",
   "language": "python",
   "name": "python3"
  },
  "language_info": {
   "codemirror_mode": {
    "name": "ipython",
    "version": 3
   },
   "file_extension": ".py",
   "mimetype": "text/x-python",
   "name": "python",
   "nbconvert_exporter": "python",
   "pygments_lexer": "ipython3",
   "version": "3.6.3"
  }
 },
 "nbformat": 4,
 "nbformat_minor": 2
}
