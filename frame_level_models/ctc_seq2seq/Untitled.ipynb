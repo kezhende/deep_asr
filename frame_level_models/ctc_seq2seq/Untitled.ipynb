{
 "cells": [
  {
   "cell_type": "code",
   "execution_count": 1,
   "metadata": {},
   "outputs": [],
   "source": [
    "import pandas as pd"
   ]
  },
  {
   "cell_type": "code",
   "execution_count": 2,
   "metadata": {},
   "outputs": [],
   "source": [
    "df = pd.read_pickle(\"df_train.pkl\")"
   ]
  },
  {
   "cell_type": "code",
   "execution_count": 3,
   "metadata": {},
   "outputs": [
    {
     "data": {
      "text/html": [
       "<div>\n",
       "<style scoped>\n",
       "    .dataframe tbody tr th:only-of-type {\n",
       "        vertical-align: middle;\n",
       "    }\n",
       "\n",
       "    .dataframe tbody tr th {\n",
       "        vertical-align: top;\n",
       "    }\n",
       "\n",
       "    .dataframe thead th {\n",
       "        text-align: right;\n",
       "    }\n",
       "</style>\n",
       "<table border=\"1\" class=\"dataframe\">\n",
       "  <thead>\n",
       "    <tr style=\"text-align: right;\">\n",
       "      <th></th>\n",
       "      <th>wav_filename</th>\n",
       "      <th>wav_filesize</th>\n",
       "      <th>transcript</th>\n",
       "    </tr>\n",
       "  </thead>\n",
       "  <tbody>\n",
       "    <tr>\n",
       "      <th>2417</th>\n",
       "      <td>/home/neo/MS/Projects/KerasDeepSpeech/TIMIT/TR...</td>\n",
       "      <td>29332</td>\n",
       "      <td>did you eat yet</td>\n",
       "    </tr>\n",
       "    <tr>\n",
       "      <th>1792</th>\n",
       "      <td>/home/neo/MS/Projects/KerasDeepSpeech/TIMIT/TR...</td>\n",
       "      <td>31584</td>\n",
       "      <td>where were they now</td>\n",
       "    </tr>\n",
       "    <tr>\n",
       "      <th>2278</th>\n",
       "      <td>/home/neo/MS/Projects/KerasDeepSpeech/TIMIT/TR...</td>\n",
       "      <td>32404</td>\n",
       "      <td>they were shattered</td>\n",
       "    </tr>\n",
       "    <tr>\n",
       "      <th>1407</th>\n",
       "      <td>/home/neo/MS/Projects/KerasDeepSpeech/TIMIT/TR...</td>\n",
       "      <td>33632</td>\n",
       "      <td>did you eat yet</td>\n",
       "    </tr>\n",
       "    <tr>\n",
       "      <th>996</th>\n",
       "      <td>/home/neo/MS/Projects/KerasDeepSpeech/TIMIT/TR...</td>\n",
       "      <td>33836</td>\n",
       "      <td>did you eat yet</td>\n",
       "    </tr>\n",
       "  </tbody>\n",
       "</table>\n",
       "</div>"
      ],
      "text/plain": [
       "                                           wav_filename  wav_filesize  \\\n",
       "2417  /home/neo/MS/Projects/KerasDeepSpeech/TIMIT/TR...         29332   \n",
       "1792  /home/neo/MS/Projects/KerasDeepSpeech/TIMIT/TR...         31584   \n",
       "2278  /home/neo/MS/Projects/KerasDeepSpeech/TIMIT/TR...         32404   \n",
       "1407  /home/neo/MS/Projects/KerasDeepSpeech/TIMIT/TR...         33632   \n",
       "996   /home/neo/MS/Projects/KerasDeepSpeech/TIMIT/TR...         33836   \n",
       "\n",
       "               transcript  \n",
       "2417      did you eat yet  \n",
       "1792  where were they now  \n",
       "2278  they were shattered  \n",
       "1407      did you eat yet  \n",
       "996       did you eat yet  "
      ]
     },
     "execution_count": 3,
     "metadata": {},
     "output_type": "execute_result"
    }
   ],
   "source": [
    "df.head()"
   ]
  }
 ],
 "metadata": {
  "kernelspec": {
   "display_name": "Python 3",
   "language": "python",
   "name": "python3"
  },
  "language_info": {
   "codemirror_mode": {
    "name": "ipython",
    "version": 3
   },
   "file_extension": ".py",
   "mimetype": "text/x-python",
   "name": "python",
   "nbconvert_exporter": "python",
   "pygments_lexer": "ipython3",
   "version": "3.6.3"
  }
 },
 "nbformat": 4,
 "nbformat_minor": 2
}
