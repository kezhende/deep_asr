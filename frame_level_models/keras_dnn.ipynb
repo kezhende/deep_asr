{
 "cells": [
  {
   "cell_type": "code",
   "execution_count": 1,
   "metadata": {
    "colab": {
     "autoexec": {
      "startup": false,
      "wait_interval": 0
     },
     "base_uri": "https://localhost:8080/",
     "height": 193
    },
    "colab_type": "code",
    "executionInfo": {
     "elapsed": 12450,
     "status": "ok",
     "timestamp": 1528566356966,
     "user": {
      "displayName": "SNADIG CP",
      "photoUrl": "https://lh3.googleusercontent.com/a/default-user=s128",
      "userId": "111186448378047970223"
     },
     "user_tz": -330
    },
    "id": "U2_blWTo__nH",
    "outputId": "dab4f46c-d9ef-46ac-ab2b-14912962c52f"
   },
   "outputs": [
    {
     "name": "stderr",
     "output_type": "stream",
     "text": [
      "Using TensorFlow backend.\n",
      "/home/neo/MS/Projects/KerasDeepSpeech/env/lib/python3.6/site-packages/h5py/__init__.py:36: FutureWarning: Conversion of the second argument of issubdtype from `float` to `np.floating` is deprecated. In future, it will be treated as `np.float64 == np.dtype(float).type`.\n",
      "  from ._conv import register_converters as _register_converters\n"
     ]
    }
   ],
   "source": [
    "import keras\n",
    "from keras.models import Sequential\n",
    "from keras.layers import Dense, Dropout, BatchNormalization\n",
    "from keras import backend as K\n",
    "from sklearn.model_selection import train_test_split\n",
    "from keras import initializers\n",
    "\n",
    "import pandas as pd\n",
    "import numpy as np\n",
    "import keras\n",
    "import os\n",
    "import joblib"
   ]
  },
  {
   "cell_type": "code",
   "execution_count": 2,
   "metadata": {},
   "outputs": [],
   "source": [
    "class LossHistory(keras.callbacks.Callback):\n",
    "    def __init__(self):\n",
    "        self.losses = np.ones((1,1))\n",
    "        \n",
    "    def on_train_begin(self, logs={}):\n",
    "        pass\n",
    "\n",
    "    def on_batch_end(self, batch, logs={}):\n",
    "        self.losses = np.vstack((self.losses, logs.get('loss')))"
   ]
  },
  {
   "cell_type": "code",
   "execution_count": 3,
   "metadata": {},
   "outputs": [],
   "source": [
    "history = LossHistory()\n",
    "tbCallBack = keras.callbacks.TensorBoard(log_dir='./Graph/timit_nodbn', histogram_freq=1, write_graph=True, write_images=True)\n",
    "early_stopping = keras.callbacks.EarlyStopping(monitor='val_acc', min_delta=0.0001, patience=5, \\\n",
    "                          verbose=1, mode='auto')\n",
    "reduce_lr = keras.callbacks.ReduceLROnPlateau(monitor='val_loss', factor=0.2,\n",
    "                              patience=5, min_lr=0.001)"
   ]
  },
  {
   "cell_type": "code",
   "execution_count": 4,
   "metadata": {
    "colab": {
     "autoexec": {
      "startup": false,
      "wait_interval": 0
     }
    },
    "colab_type": "code",
    "id": "DOkq0tUpBaFu"
   },
   "outputs": [],
   "source": [
    "X = joblib.load(open(\"./features/features_float32.pkl\", \"rb\"))\n",
    "Y = joblib.load(open(\"./features/labels_int16_mapped.pkl\", \"rb\"))\n",
    "X -=  X.mean(axis=0)\n",
    "X /= X.std(axis=0)\n",
    "# Y = keras.utils.to_categorical(Y, num_classes=1944)\n",
    "X_train, X_test, y_train, y_test = train_test_split(X,Y,test_size=0.3, random_state=0)"
   ]
  },
  {
   "cell_type": "code",
   "execution_count": 5,
   "metadata": {
    "colab": {
     "autoexec": {
      "startup": false,
      "wait_interval": 0
     }
    },
    "colab_type": "code",
    "id": "jZz0rkrE04JF"
   },
   "outputs": [],
   "source": [
    "wts = joblib.load(\"./features/kaldi_dbn_weights.pkl\")\n",
    "w1 = [np.asanyarray(wts[:1024], dtype=np.float32).T, np.asanyarray(wts[1024], dtype=np.float32)]\n",
    "w2 = [np.asanyarray(wts[1025:2049], dtype=np.float32).T, np.asanyarray(wts[2049], dtype=np.float32)]\n",
    "w3 = [np.asanyarray(wts[2050:3074], dtype=np.float32).T, np.asanyarray(wts[3074], dtype=np.float32)]\n",
    "w4 = [np.asanyarray(wts[3075:4099], dtype=np.float32).T, np.asanyarray(wts[4099], dtype=np.float32)]\n",
    "w5 = [np.asanyarray(wts[4100:5124], dtype=np.float32).T, np.asanyarray(wts[5124], dtype=np.float32)]\n",
    "w6 = [np.asanyarray(wts[5125:6149], dtype=np.float32).T, np.asanyarray(wts[6149], dtype=np.float32)]"
   ]
  },
  {
   "cell_type": "code",
   "execution_count": 6,
   "metadata": {
    "colab": {
     "autoexec": {
      "startup": false,
      "wait_interval": 0
     }
    },
    "colab_type": "code",
    "id": "X31i-fYhCBda"
   },
   "outputs": [],
   "source": [
    "def get_model(dbn=False):\n",
    "    if(dbn):\n",
    "        model = Sequential([\n",
    "        Dense(units=1024, activation='relu', input_dim=440, weights=w1),\n",
    "        Dropout(0.2),\n",
    "        BatchNormalization(),\n",
    "\n",
    "        Dense(1024, activation='relu', weights=w6),\n",
    "        Dropout(0.2),\n",
    "        BatchNormalization(),\n",
    "\n",
    "        Dense(1024, activation='relu', weights=w5),\n",
    "        Dropout(0.2),\n",
    "        BatchNormalization(),\n",
    "\n",
    "        Dense(1024, activation='relu', weights=w4),\n",
    "        Dropout(0.2),\n",
    "        BatchNormalization(),\n",
    "\n",
    "        Dense(1024, activation='relu', weights=w3),\n",
    "        Dropout(0.2),\n",
    "        BatchNormalization(),\n",
    "\n",
    "        Dense(1024, activation='relu', weights=w2),\n",
    "        Dropout(0.2),\n",
    "        BatchNormalization(),\n",
    "\n",
    "        Dense(units=48, activation='softmax'),\n",
    "        ])\n",
    "    else:\n",
    "        model = Sequential([\n",
    "        Dense(units=1024, activation='relu', input_dim=440),\n",
    "        Dropout(0.2),\n",
    "        BatchNormalization(),\n",
    "\n",
    "        Dense(1024, activation='relu'),\n",
    "        Dropout(0.2),\n",
    "        BatchNormalization(),\n",
    "\n",
    "        Dense(1024, activation='relu'),\n",
    "        Dropout(0.2),\n",
    "        BatchNormalization(),\n",
    "\n",
    "        Dense(1024, activation='relu'),\n",
    "        Dropout(0.2),\n",
    "        BatchNormalization(),\n",
    "\n",
    "        Dense(1024, activation='relu'),\n",
    "        Dropout(0.2),\n",
    "        BatchNormalization(),\n",
    "\n",
    "        Dense(1024, activation='relu'),\n",
    "        Dropout(0.2),\n",
    "        BatchNormalization(),\n",
    "\n",
    "        Dense(units=48, activation='softmax'),\n",
    "        ])\n",
    "    return model"
   ]
  },
  {
   "cell_type": "code",
   "execution_count": 7,
   "metadata": {
    "colab": {
     "autoexec": {
      "startup": false,
      "wait_interval": 0
     }
    },
    "colab_type": "code",
    "id": "7TmP3-tySTZn"
   },
   "outputs": [
    {
     "name": "stdout",
     "output_type": "stream",
     "text": [
      "WARNING:tensorflow:From /home/neo/MS/Projects/KerasDeepSpeech/env/lib/python3.6/site-packages/keras/backend/tensorflow_backend.py:1123: calling reduce_mean (from tensorflow.python.ops.math_ops) with keep_dims is deprecated and will be removed in a future version.\n",
      "Instructions for updating:\n",
      "keep_dims is deprecated, use keepdims instead\n",
      "WARNING:tensorflow:From /home/neo/MS/Projects/KerasDeepSpeech/env/lib/python3.6/site-packages/keras/backend/tensorflow_backend.py:1008: calling reduce_max (from tensorflow.python.ops.math_ops) with keep_dims is deprecated and will be removed in a future version.\n",
      "Instructions for updating:\n",
      "keep_dims is deprecated, use keepdims instead\n"
     ]
    }
   ],
   "source": [
    "model = get_model(dbn=False)\n",
    "model.compile(loss='sparse_categorical_crossentropy',\n",
    "              optimizer='adam',\n",
    "              metrics=['accuracy'])"
   ]
  },
  {
   "cell_type": "code",
   "execution_count": 8,
   "metadata": {},
   "outputs": [
    {
     "name": "stdout",
     "output_type": "stream",
     "text": [
      "_________________________________________________________________\n",
      "Layer (type)                 Output Shape              Param #   \n",
      "=================================================================\n",
      "dense_1 (Dense)              (None, 1024)              451584    \n",
      "_________________________________________________________________\n",
      "dropout_1 (Dropout)          (None, 1024)              0         \n",
      "_________________________________________________________________\n",
      "batch_normalization_1 (Batch (None, 1024)              4096      \n",
      "_________________________________________________________________\n",
      "dense_2 (Dense)              (None, 1024)              1049600   \n",
      "_________________________________________________________________\n",
      "dropout_2 (Dropout)          (None, 1024)              0         \n",
      "_________________________________________________________________\n",
      "batch_normalization_2 (Batch (None, 1024)              4096      \n",
      "_________________________________________________________________\n",
      "dense_3 (Dense)              (None, 1024)              1049600   \n",
      "_________________________________________________________________\n",
      "dropout_3 (Dropout)          (None, 1024)              0         \n",
      "_________________________________________________________________\n",
      "batch_normalization_3 (Batch (None, 1024)              4096      \n",
      "_________________________________________________________________\n",
      "dense_4 (Dense)              (None, 1024)              1049600   \n",
      "_________________________________________________________________\n",
      "dropout_4 (Dropout)          (None, 1024)              0         \n",
      "_________________________________________________________________\n",
      "batch_normalization_4 (Batch (None, 1024)              4096      \n",
      "_________________________________________________________________\n",
      "dense_5 (Dense)              (None, 1024)              1049600   \n",
      "_________________________________________________________________\n",
      "dropout_5 (Dropout)          (None, 1024)              0         \n",
      "_________________________________________________________________\n",
      "batch_normalization_5 (Batch (None, 1024)              4096      \n",
      "_________________________________________________________________\n",
      "dense_6 (Dense)              (None, 1024)              1049600   \n",
      "_________________________________________________________________\n",
      "dropout_6 (Dropout)          (None, 1024)              0         \n",
      "_________________________________________________________________\n",
      "batch_normalization_6 (Batch (None, 1024)              4096      \n",
      "_________________________________________________________________\n",
      "dense_7 (Dense)              (None, 48)                49200     \n",
      "=================================================================\n",
      "Total params: 5,773,360.0\n",
      "Trainable params: 5,761,072.0\n",
      "Non-trainable params: 12,288.0\n",
      "_________________________________________________________________\n"
     ]
    }
   ],
   "source": [
    "model.summary()"
   ]
  },
  {
   "cell_type": "code",
   "execution_count": 9,
   "metadata": {},
   "outputs": [],
   "source": [
    "validation_split = 0.1\n",
    "validation_size = int(len(X_train)*validation_split)\n",
    "batch_size=256"
   ]
  },
  {
   "cell_type": "code",
   "execution_count": 10,
   "metadata": {
    "colab": {
     "autoexec": {
      "startup": false,
      "wait_interval": 0
     },
     "base_uri": "https://localhost:8080/",
     "height": 751
    },
    "colab_type": "code",
    "id": "PVmJbLv9SU4I",
    "outputId": "b4aa1802-faff-457b-e2f3-bc4dd7d58465"
   },
   "outputs": [
    {
     "name": "stdout",
     "output_type": "stream",
     "text": [
      "Train on 708638 samples, validate on 78738 samples\n",
      "INFO:tensorflow:Summary name dense_1/kernel:0 is illegal; using dense_1/kernel_0 instead.\n",
      "INFO:tensorflow:Summary name dense_1/kernel:0 is illegal; using dense_1/kernel_0 instead.\n",
      "INFO:tensorflow:Summary name dense_1/bias:0 is illegal; using dense_1/bias_0 instead.\n",
      "INFO:tensorflow:Summary name dense_1/bias:0 is illegal; using dense_1/bias_0 instead.\n",
      "INFO:tensorflow:Summary name batch_normalization_1/gamma:0 is illegal; using batch_normalization_1/gamma_0 instead.\n",
      "INFO:tensorflow:Summary name batch_normalization_1/gamma:0 is illegal; using batch_normalization_1/gamma_0 instead.\n",
      "INFO:tensorflow:Summary name batch_normalization_1/beta:0 is illegal; using batch_normalization_1/beta_0 instead.\n",
      "INFO:tensorflow:Summary name batch_normalization_1/beta:0 is illegal; using batch_normalization_1/beta_0 instead.\n",
      "INFO:tensorflow:Summary name batch_normalization_1/moving_mean:0 is illegal; using batch_normalization_1/moving_mean_0 instead.\n",
      "INFO:tensorflow:Summary name batch_normalization_1/moving_mean:0 is illegal; using batch_normalization_1/moving_mean_0 instead.\n",
      "INFO:tensorflow:Summary name batch_normalization_1/moving_variance:0 is illegal; using batch_normalization_1/moving_variance_0 instead.\n",
      "INFO:tensorflow:Summary name batch_normalization_1/moving_variance:0 is illegal; using batch_normalization_1/moving_variance_0 instead.\n",
      "INFO:tensorflow:Summary name dense_2/kernel:0 is illegal; using dense_2/kernel_0 instead.\n",
      "INFO:tensorflow:Summary name dense_2/kernel:0 is illegal; using dense_2/kernel_0 instead.\n",
      "INFO:tensorflow:Summary name dense_2/bias:0 is illegal; using dense_2/bias_0 instead.\n",
      "INFO:tensorflow:Summary name dense_2/bias:0 is illegal; using dense_2/bias_0 instead.\n",
      "INFO:tensorflow:Summary name batch_normalization_2/gamma:0 is illegal; using batch_normalization_2/gamma_0 instead.\n",
      "INFO:tensorflow:Summary name batch_normalization_2/gamma:0 is illegal; using batch_normalization_2/gamma_0 instead.\n",
      "INFO:tensorflow:Summary name batch_normalization_2/beta:0 is illegal; using batch_normalization_2/beta_0 instead.\n",
      "INFO:tensorflow:Summary name batch_normalization_2/beta:0 is illegal; using batch_normalization_2/beta_0 instead.\n",
      "INFO:tensorflow:Summary name batch_normalization_2/moving_mean:0 is illegal; using batch_normalization_2/moving_mean_0 instead.\n",
      "INFO:tensorflow:Summary name batch_normalization_2/moving_mean:0 is illegal; using batch_normalization_2/moving_mean_0 instead.\n",
      "INFO:tensorflow:Summary name batch_normalization_2/moving_variance:0 is illegal; using batch_normalization_2/moving_variance_0 instead.\n",
      "INFO:tensorflow:Summary name batch_normalization_2/moving_variance:0 is illegal; using batch_normalization_2/moving_variance_0 instead.\n",
      "INFO:tensorflow:Summary name dense_3/kernel:0 is illegal; using dense_3/kernel_0 instead.\n",
      "INFO:tensorflow:Summary name dense_3/kernel:0 is illegal; using dense_3/kernel_0 instead.\n",
      "INFO:tensorflow:Summary name dense_3/bias:0 is illegal; using dense_3/bias_0 instead.\n",
      "INFO:tensorflow:Summary name dense_3/bias:0 is illegal; using dense_3/bias_0 instead.\n",
      "INFO:tensorflow:Summary name batch_normalization_3/gamma:0 is illegal; using batch_normalization_3/gamma_0 instead.\n",
      "INFO:tensorflow:Summary name batch_normalization_3/gamma:0 is illegal; using batch_normalization_3/gamma_0 instead.\n",
      "INFO:tensorflow:Summary name batch_normalization_3/beta:0 is illegal; using batch_normalization_3/beta_0 instead.\n",
      "INFO:tensorflow:Summary name batch_normalization_3/beta:0 is illegal; using batch_normalization_3/beta_0 instead.\n",
      "INFO:tensorflow:Summary name batch_normalization_3/moving_mean:0 is illegal; using batch_normalization_3/moving_mean_0 instead.\n",
      "INFO:tensorflow:Summary name batch_normalization_3/moving_mean:0 is illegal; using batch_normalization_3/moving_mean_0 instead.\n",
      "INFO:tensorflow:Summary name batch_normalization_3/moving_variance:0 is illegal; using batch_normalization_3/moving_variance_0 instead.\n",
      "INFO:tensorflow:Summary name batch_normalization_3/moving_variance:0 is illegal; using batch_normalization_3/moving_variance_0 instead.\n",
      "INFO:tensorflow:Summary name dense_4/kernel:0 is illegal; using dense_4/kernel_0 instead.\n",
      "INFO:tensorflow:Summary name dense_4/kernel:0 is illegal; using dense_4/kernel_0 instead.\n",
      "INFO:tensorflow:Summary name dense_4/bias:0 is illegal; using dense_4/bias_0 instead.\n",
      "INFO:tensorflow:Summary name dense_4/bias:0 is illegal; using dense_4/bias_0 instead.\n",
      "INFO:tensorflow:Summary name batch_normalization_4/gamma:0 is illegal; using batch_normalization_4/gamma_0 instead.\n",
      "INFO:tensorflow:Summary name batch_normalization_4/gamma:0 is illegal; using batch_normalization_4/gamma_0 instead.\n",
      "INFO:tensorflow:Summary name batch_normalization_4/beta:0 is illegal; using batch_normalization_4/beta_0 instead.\n",
      "INFO:tensorflow:Summary name batch_normalization_4/beta:0 is illegal; using batch_normalization_4/beta_0 instead.\n",
      "INFO:tensorflow:Summary name batch_normalization_4/moving_mean:0 is illegal; using batch_normalization_4/moving_mean_0 instead.\n",
      "INFO:tensorflow:Summary name batch_normalization_4/moving_mean:0 is illegal; using batch_normalization_4/moving_mean_0 instead.\n",
      "INFO:tensorflow:Summary name batch_normalization_4/moving_variance:0 is illegal; using batch_normalization_4/moving_variance_0 instead.\n",
      "INFO:tensorflow:Summary name batch_normalization_4/moving_variance:0 is illegal; using batch_normalization_4/moving_variance_0 instead.\n",
      "INFO:tensorflow:Summary name dense_5/kernel:0 is illegal; using dense_5/kernel_0 instead.\n",
      "INFO:tensorflow:Summary name dense_5/kernel:0 is illegal; using dense_5/kernel_0 instead.\n",
      "INFO:tensorflow:Summary name dense_5/bias:0 is illegal; using dense_5/bias_0 instead.\n",
      "INFO:tensorflow:Summary name dense_5/bias:0 is illegal; using dense_5/bias_0 instead.\n",
      "INFO:tensorflow:Summary name batch_normalization_5/gamma:0 is illegal; using batch_normalization_5/gamma_0 instead.\n",
      "INFO:tensorflow:Summary name batch_normalization_5/gamma:0 is illegal; using batch_normalization_5/gamma_0 instead.\n",
      "INFO:tensorflow:Summary name batch_normalization_5/beta:0 is illegal; using batch_normalization_5/beta_0 instead.\n",
      "INFO:tensorflow:Summary name batch_normalization_5/beta:0 is illegal; using batch_normalization_5/beta_0 instead.\n",
      "INFO:tensorflow:Summary name batch_normalization_5/moving_mean:0 is illegal; using batch_normalization_5/moving_mean_0 instead.\n",
      "INFO:tensorflow:Summary name batch_normalization_5/moving_mean:0 is illegal; using batch_normalization_5/moving_mean_0 instead.\n",
      "INFO:tensorflow:Summary name batch_normalization_5/moving_variance:0 is illegal; using batch_normalization_5/moving_variance_0 instead.\n",
      "INFO:tensorflow:Summary name batch_normalization_5/moving_variance:0 is illegal; using batch_normalization_5/moving_variance_0 instead.\n",
      "INFO:tensorflow:Summary name dense_6/kernel:0 is illegal; using dense_6/kernel_0 instead.\n",
      "INFO:tensorflow:Summary name dense_6/kernel:0 is illegal; using dense_6/kernel_0 instead.\n",
      "INFO:tensorflow:Summary name dense_6/bias:0 is illegal; using dense_6/bias_0 instead.\n",
      "INFO:tensorflow:Summary name dense_6/bias:0 is illegal; using dense_6/bias_0 instead.\n",
      "INFO:tensorflow:Summary name batch_normalization_6/gamma:0 is illegal; using batch_normalization_6/gamma_0 instead.\n",
      "INFO:tensorflow:Summary name batch_normalization_6/gamma:0 is illegal; using batch_normalization_6/gamma_0 instead.\n",
      "INFO:tensorflow:Summary name batch_normalization_6/beta:0 is illegal; using batch_normalization_6/beta_0 instead.\n",
      "INFO:tensorflow:Summary name batch_normalization_6/beta:0 is illegal; using batch_normalization_6/beta_0 instead.\n",
      "INFO:tensorflow:Summary name batch_normalization_6/moving_mean:0 is illegal; using batch_normalization_6/moving_mean_0 instead.\n",
      "INFO:tensorflow:Summary name batch_normalization_6/moving_mean:0 is illegal; using batch_normalization_6/moving_mean_0 instead.\n",
      "INFO:tensorflow:Summary name batch_normalization_6/moving_variance:0 is illegal; using batch_normalization_6/moving_variance_0 instead.\n",
      "INFO:tensorflow:Summary name batch_normalization_6/moving_variance:0 is illegal; using batch_normalization_6/moving_variance_0 instead.\n",
      "INFO:tensorflow:Summary name dense_7/kernel:0 is illegal; using dense_7/kernel_0 instead.\n",
      "INFO:tensorflow:Summary name dense_7/kernel:0 is illegal; using dense_7/kernel_0 instead.\n"
     ]
    },
    {
     "name": "stdout",
     "output_type": "stream",
     "text": [
      "INFO:tensorflow:Summary name dense_7/bias:0 is illegal; using dense_7/bias_0 instead.\n",
      "INFO:tensorflow:Summary name dense_7/bias:0 is illegal; using dense_7/bias_0 instead.\n",
      "Epoch 1/50\n",
      "708638/708638 [==============================] - 62s - loss: 1.1723 - acc: 0.6387 - val_loss: 0.8923 - val_acc: 0.7107\n",
      "Epoch 2/50\n",
      "708638/708638 [==============================] - 56s - loss: 0.9314 - acc: 0.7012 - val_loss: 0.7852 - val_acc: 0.7429\n",
      "Epoch 3/50\n",
      "708638/708638 [==============================] - 52s - loss: 0.8492 - acc: 0.7244 - val_loss: 0.7355 - val_acc: 0.7561\n",
      "Epoch 4/50\n",
      "708638/708638 [==============================] - 54s - loss: 0.7889 - acc: 0.7414 - val_loss: 0.6890 - val_acc: 0.7686\n",
      "Epoch 5/50\n",
      "708638/708638 [==============================] - 58s - loss: 0.7432 - acc: 0.7547 - val_loss: 0.6618 - val_acc: 0.7768\n",
      "Epoch 6/50\n",
      "708638/708638 [==============================] - 59s - loss: 0.7074 - acc: 0.7649 - val_loss: 0.6342 - val_acc: 0.7864\n",
      "Epoch 7/50\n",
      "708638/708638 [==============================] - 55s - loss: 0.6762 - acc: 0.7730 - val_loss: 0.6143 - val_acc: 0.7919\n",
      "Epoch 8/50\n",
      "708638/708638 [==============================] - 56s - loss: 0.6492 - acc: 0.7810 - val_loss: 0.5982 - val_acc: 0.7940\n",
      "Epoch 9/50\n",
      "708638/708638 [==============================] - 57s - loss: 0.6270 - acc: 0.7873 - val_loss: 0.5835 - val_acc: 0.8002\n",
      "Epoch 10/50\n",
      "708638/708638 [==============================] - 62s - loss: 0.6078 - acc: 0.7931 - val_loss: 0.5677 - val_acc: 0.8060\n",
      "Epoch 11/50\n",
      "708638/708638 [==============================] - 57s - loss: 0.5912 - acc: 0.7974 - val_loss: 0.5620 - val_acc: 0.8080\n",
      "Epoch 12/50\n",
      "708638/708638 [==============================] - 58s - loss: 0.5729 - acc: 0.8033 - val_loss: 0.5479 - val_acc: 0.8122\n",
      "Epoch 13/50\n",
      "708638/708638 [==============================] - 69s - loss: 0.5599 - acc: 0.8072 - val_loss: 0.5400 - val_acc: 0.8150\n",
      "Epoch 14/50\n",
      "708638/708638 [==============================] - 61s - loss: 0.5459 - acc: 0.8117 - val_loss: 0.5326 - val_acc: 0.8164\n",
      "Epoch 15/50\n",
      "708638/708638 [==============================] - 72s - loss: 0.5334 - acc: 0.8151 - val_loss: 0.5239 - val_acc: 0.8191\n",
      "Epoch 16/50\n",
      "708638/708638 [==============================] - 58s - loss: 0.5221 - acc: 0.8185 - val_loss: 0.5223 - val_acc: 0.8203\n",
      "Epoch 17/50\n",
      "708638/708638 [==============================] - 64s - loss: 0.5123 - acc: 0.8216 - val_loss: 0.5137 - val_acc: 0.8243\n",
      "Epoch 18/50\n",
      "708638/708638 [==============================] - 51s - loss: 0.5030 - acc: 0.8243 - val_loss: 0.5052 - val_acc: 0.8266\n",
      "Epoch 19/50\n",
      "708638/708638 [==============================] - 52s - loss: 0.4924 - acc: 0.8278 - val_loss: 0.5025 - val_acc: 0.8269\n",
      "Epoch 20/50\n",
      "708638/708638 [==============================] - 57s - loss: 0.4838 - acc: 0.8299 - val_loss: 0.4923 - val_acc: 0.8298\n",
      "Epoch 21/50\n",
      "708638/708638 [==============================] - 52s - loss: 0.4769 - acc: 0.8328 - val_loss: 0.4896 - val_acc: 0.8319\n",
      "Epoch 22/50\n",
      "708638/708638 [==============================] - 55s - loss: 0.4695 - acc: 0.8354 - val_loss: 0.4820 - val_acc: 0.8343\n",
      "Epoch 23/50\n",
      "708638/708638 [==============================] - 52s - loss: 0.4623 - acc: 0.8371 - val_loss: 0.4841 - val_acc: 0.8345\n",
      "Epoch 24/50\n",
      "708638/708638 [==============================] - 52s - loss: 0.4555 - acc: 0.8394 - val_loss: 0.4751 - val_acc: 0.8367\n",
      "Epoch 25/50\n",
      "708638/708638 [==============================] - 57s - loss: 0.4493 - acc: 0.8412 - val_loss: 0.4738 - val_acc: 0.8369\n",
      "Epoch 26/50\n",
      "708638/708638 [==============================] - 52s - loss: 0.4432 - acc: 0.8432 - val_loss: 0.4725 - val_acc: 0.8384\n",
      "Epoch 27/50\n",
      "708638/708638 [==============================] - 53s - loss: 0.4373 - acc: 0.8451 - val_loss: 0.4687 - val_acc: 0.8387\n",
      "Epoch 28/50\n",
      "708638/708638 [==============================] - 51s - loss: 0.4332 - acc: 0.8464 - val_loss: 0.4644 - val_acc: 0.8400\n",
      "Epoch 29/50\n",
      "708638/708638 [==============================] - 57s - loss: 0.4261 - acc: 0.8497 - val_loss: 0.4615 - val_acc: 0.8408\n",
      "Epoch 30/50\n",
      "708638/708638 [==============================] - 51s - loss: 0.4215 - acc: 0.8506 - val_loss: 0.4619 - val_acc: 0.8416\n",
      "Epoch 31/50\n",
      "708638/708638 [==============================] - 52s - loss: 0.4169 - acc: 0.8524 - val_loss: 0.4519 - val_acc: 0.8449\n",
      "Epoch 32/50\n",
      "708638/708638 [==============================] - 55s - loss: 0.4110 - acc: 0.8544 - val_loss: 0.4551 - val_acc: 0.8454\n",
      "Epoch 33/50\n",
      "708638/708638 [==============================] - 51s - loss: 0.4082 - acc: 0.8549 - val_loss: 0.4542 - val_acc: 0.8447\n",
      "Epoch 34/50\n",
      "708638/708638 [==============================] - 56s - loss: 0.4034 - acc: 0.8565 - val_loss: 0.4482 - val_acc: 0.8467\n",
      "Epoch 35/50\n",
      "708638/708638 [==============================] - 51s - loss: 0.3997 - acc: 0.8575 - val_loss: 0.4485 - val_acc: 0.8470\n",
      "Epoch 36/50\n",
      "708638/708638 [==============================] - 55s - loss: 0.3949 - acc: 0.8596 - val_loss: 0.4430 - val_acc: 0.8487\n",
      "Epoch 37/50\n",
      "708638/708638 [==============================] - 51s - loss: 0.3911 - acc: 0.8604 - val_loss: 0.4446 - val_acc: 0.8490\n",
      "Epoch 38/50\n",
      "708638/708638 [==============================] - 55s - loss: 0.3885 - acc: 0.8617 - val_loss: 0.4434 - val_acc: 0.8496\n",
      "Epoch 39/50\n",
      "708638/708638 [==============================] - 51s - loss: 0.3842 - acc: 0.8630 - val_loss: 0.4398 - val_acc: 0.8510\n",
      "Epoch 40/50\n",
      "708638/708638 [==============================] - 55s - loss: 0.3818 - acc: 0.8640 - val_loss: 0.4362 - val_acc: 0.8523\n",
      "Epoch 41/50\n",
      "708638/708638 [==============================] - 51s - loss: 0.3773 - acc: 0.8652 - val_loss: 0.4339 - val_acc: 0.8522\n",
      "Epoch 42/50\n",
      "708638/708638 [==============================] - 54s - loss: 0.3752 - acc: 0.8658 - val_loss: 0.4359 - val_acc: 0.8535\n",
      "Epoch 43/50\n",
      "708638/708638 [==============================] - 51s - loss: 0.3721 - acc: 0.8671 - val_loss: 0.4326 - val_acc: 0.8539\n",
      "Epoch 44/50\n",
      "708638/708638 [==============================] - 56s - loss: 0.3677 - acc: 0.8684 - val_loss: 0.4331 - val_acc: 0.8540\n",
      "Epoch 45/50\n",
      "708638/708638 [==============================] - 51s - loss: 0.3653 - acc: 0.8695 - val_loss: 0.4301 - val_acc: 0.8566\n",
      "Epoch 46/50\n",
      "708638/708638 [==============================] - 55s - loss: 0.3624 - acc: 0.8706 - val_loss: 0.4286 - val_acc: 0.8555\n",
      "Epoch 47/50\n",
      "708638/708638 [==============================] - 51s - loss: 0.3600 - acc: 0.8712 - val_loss: 0.4287 - val_acc: 0.8562\n",
      "Epoch 48/50\n",
      "708638/708638 [==============================] - 57s - loss: 0.3575 - acc: 0.8717 - val_loss: 0.4281 - val_acc: 0.8564\n",
      "Epoch 49/50\n",
      "708638/708638 [==============================] - 52s - loss: 0.3548 - acc: 0.8729 - val_loss: 0.4272 - val_acc: 0.8567\n",
      "Epoch 50/50\n",
      "708638/708638 [==============================] - 52s - loss: 0.3519 - acc: 0.8741 - val_loss: 0.4247 - val_acc: 0.8572\n"
     ]
    },
    {
     "data": {
      "text/plain": [
       "<keras.callbacks.History at 0x7f43049af630>"
      ]
     },
     "execution_count": 10,
     "metadata": {},
     "output_type": "execute_result"
    }
   ],
   "source": [
    "model.fit(X_train, y_train, epochs=50, batch_size=256,validation_split=0.1,\n",
    "             callbacks=[tbCallBack, early_stopping, reduce_lr])"
   ]
  },
  {
   "cell_type": "code",
   "execution_count": 11,
   "metadata": {},
   "outputs": [],
   "source": [
    "model.save('timit_nodbn_init.h5')"
   ]
  },
  {
   "cell_type": "code",
   "execution_count": 12,
   "metadata": {},
   "outputs": [
    {
     "name": "stdout",
     "output_type": "stream",
     "text": [
      "786560/787376 [============================>.] - ETA: 0sTrain accuracy: [0.1623557306743904, 0.9501737416431286]\n"
     ]
    }
   ],
   "source": [
    "train_acc = model.evaluate(X_train, y_train)\n",
    "print(\"Train accuracy:\", train_acc)"
   ]
  },
  {
   "cell_type": "code",
   "execution_count": 13,
   "metadata": {
    "colab": {
     "autoexec": {
      "startup": false,
      "wait_interval": 0
     }
    },
    "colab_type": "code",
    "id": "vHVSBwVaK61-"
   },
   "outputs": [
    {
     "name": "stdout",
     "output_type": "stream",
     "text": [
      "336576/337447 [============================>.] - ETA: 0sTest accuracy: [0.42315098551744634, 0.8579747338102268]\n"
     ]
    }
   ],
   "source": [
    "loss_and_metrics = model.evaluate(X_test, y_test)\n",
    "print(\"Test accuracy:\",loss_and_metrics)"
   ]
  },
  {
   "cell_type": "code",
   "execution_count": 14,
   "metadata": {},
   "outputs": [],
   "source": [
    "del model"
   ]
  },
  {
   "cell_type": "code",
   "execution_count": 15,
   "metadata": {},
   "outputs": [],
   "source": [
    "exit()"
   ]
  },
  {
   "cell_type": "code",
   "execution_count": 16,
   "metadata": {},
   "outputs": [],
   "source": [
    "quit()"
   ]
  }
 ],
 "metadata": {
  "accelerator": "GPU",
  "colab": {
   "collapsed_sections": [],
   "default_view": {},
   "name": "keras_dnn.ipynb",
   "provenance": [],
   "version": "0.3.2",
   "views": {}
  },
  "kernelspec": {
   "display_name": "Python 3",
   "language": "python",
   "name": "python3"
  },
  "language_info": {
   "codemirror_mode": {
    "name": "ipython",
    "version": 3
   },
   "file_extension": ".py",
   "mimetype": "text/x-python",
   "name": "python",
   "nbconvert_exporter": "python",
   "pygments_lexer": "ipython3",
   "version": "3.6.3"
  }
 },
 "nbformat": 4,
 "nbformat_minor": 1
}
